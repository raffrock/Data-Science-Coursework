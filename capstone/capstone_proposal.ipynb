{
 "cells": [
  {
   "cell_type": "markdown",
   "id": "7efcfd54-3662-4923-9d73-b0606245828d",
   "metadata": {},
   "source": [
    "In this project, I will create a model that is trained to determine the factuality of Elon Musk's tweets. Disinformation has been on the rise in America in recent years. The main source is social media websites. This has been exacerbated by Elon Musk's purchase of Twitter. Twitter was once a website for short-form context posted by a range of users, from everyday people to professionals in all fields. After Musk's acquisition of Twitter, studies found that there was [a rise in hate speech](https://journals.plos.org/plosone/article?id=10.1371/journal.pone.0313293#) and [increased spread of fake news](https://www.science.org/doi/10.1126/science.aap9559). While this can be partially attributed to massive layoffs, meaning there is less staff to moderate content, Musk has openly promoted this kind of content. He has removed safeguards for the identification of misinformation, like the blue checkmark system. In addition, Musk has his own track record with easily proven lies. This has ranged from his stats in a popular video game to mischaracterizing government spending to shut down research and explain mass firings. Therefore, I will focus analyzing the writings from one of the key figures of the rise of disinformations on the website that he has curated for his followers. "
   ]
  },
  {
   "cell_type": "markdown",
   "id": "8353976d-45a2-47f3-8b54-4e23e26f6e1c",
   "metadata": {},
   "source": [
    "In the research papers linked above, one focusing on hate speach used consine simularity, Kolmogorov–Smirnov test, a logistic regression model, and the random forest algorithm. The first research paper used a model created by [Hickey et al](https://par.nsf.gov/servlets/purl/10517204) and their existing lexion of hateful words to track the frequency of those words in tweets over time. They also were able to identify bots and remove them, yet they found that the dramatic rise remained present. Additionally, the researchers used consine simularity on the tweet of certain accounts, which was one method of bot detection. The second research paper uses data from six independent fact-checking organizations. I doubt I will need that many, yet I can Then, I can transform all the words into tokens then vectors. I will use TD-TIF to give the words appropriate weights. Then, I can go through a simular process with the correct information. My model will evaluate the Elon Musk tweet against the true information to determine its factuality. I will do this by matching the tweet to the closest truth and comparing simularity. Finally, I hold to graph larger trends on his truthfulness over time. Hopefully, the representation of the changes in Musk's integrity will lower approval and reveal the timeline of his transformation into a Right Wing grifter."
   ]
  },
  {
   "cell_type": "markdown",
   "id": "5608aa79-cf65-489d-ad29-271848eb2cc6",
   "metadata": {},
   "source": [
    "To prepare for this. I am debating on removing repost because they are still spreading falsehoods; however, it is not written by Musk himself. I will also remove responses to To transform the text into tokens, I will have to shorten words to their bases (playing to play), remove punctuations, stopswords, and emojis.\n",
    "I will have to look further into APIs of the fact-checking organizations to avoid storing all of the data locally, especially when it is unknown what exactly will be needed. \n",
    "Since it would be unreasonable for me to read every tweet, to check the effectiveness of the models, tweets will be randomly selected and manually rated. These will be used to check for the accuracy of the model. "
   ]
  },
  {
   "cell_type": "markdown",
   "id": "9ed5c4f2-b534-4271-9b39-002dc45dee62",
   "metadata": {},
   "source": [
    "The data has been sourced from Kaggle, which was taken using Twitter's API. The link can be found [here](https://www.kaggle.com/datasets/dadalyndell/elon-musk-tweets-2010-to-2025-march1). I have also found this [Fake News Detection model](https://www.kaggle.com/datasets/abahttps://www.kaggle.com/code/johnsmith44/musk-doge-tweets-and-effect-on-price-feb-2021hyangor/fake-news-dataset/data) interesting and plan to look further into it to see if I can further refine my plan by looking at their methods. \n",
    "There are many null values in the data, however they are for columns that aren't needed. I will have to use Twitter's API to pull that data if I wanted to use them for graphing later. For example, the like and view count of his tweets. "
   ]
  },
  {
   "cell_type": "code",
   "execution_count": 153,
   "id": "df282a8d-555c-4a96-b2d4-8f3a5d47450f",
   "metadata": {},
   "outputs": [],
   "source": [
    "import pandas as pd # data handling\n",
    "import re # reg expression \n",
    "import nltk # tokenization\n",
    "from datetime import datetime # dates dt\n",
    "import matplotlib.pyplot as plt # plot\n",
    "import requests # api\n",
    "import json"
   ]
  },
  {
   "cell_type": "code",
   "execution_count": 151,
   "id": "1561a2c2-507d-4571-af27-8778a7bdcbaf",
   "metadata": {},
   "outputs": [
    {
     "data": {
      "text/html": [
       "<div>\n",
       "<style scoped>\n",
       "    .dataframe tbody tr th:only-of-type {\n",
       "        vertical-align: middle;\n",
       "    }\n",
       "\n",
       "    .dataframe tbody tr th {\n",
       "        vertical-align: top;\n",
       "    }\n",
       "\n",
       "    .dataframe thead th {\n",
       "        text-align: right;\n",
       "    }\n",
       "</style>\n",
       "<table border=\"1\" class=\"dataframe\">\n",
       "  <thead>\n",
       "    <tr style=\"text-align: right;\">\n",
       "      <th></th>\n",
       "      <th>id</th>\n",
       "      <th>fullText</th>\n",
       "      <th>createdAt</th>\n",
       "      <th>likeCount</th>\n",
       "      <th>viewCount</th>\n",
       "      <th>isQuote</th>\n",
       "    </tr>\n",
       "  </thead>\n",
       "  <tbody>\n",
       "    <tr>\n",
       "      <th>0</th>\n",
       "      <td>1655159652990976000</td>\n",
       "      <td>RT @einarvollset: I read @paulg’s  “How to Mak...</td>\n",
       "      <td>2023-05-07 10:36:27+00:00</td>\n",
       "      <td>NaN</td>\n",
       "      <td>NaN</td>\n",
       "      <td>NaN</td>\n",
       "    </tr>\n",
       "    <tr>\n",
       "      <th>1</th>\n",
       "      <td>1657261624867299339</td>\n",
       "      <td>https://t.co/Zjn6r15lrR</td>\n",
       "      <td>2023-05-13 05:48:56+00:00</td>\n",
       "      <td>NaN</td>\n",
       "      <td>NaN</td>\n",
       "      <td>NaN</td>\n",
       "    </tr>\n",
       "    <tr>\n",
       "      <th>2</th>\n",
       "      <td>1623774484795920384</td>\n",
       "      <td>RT @BillyM2k: dude bookmarks are an awesome tw...</td>\n",
       "      <td>2023-02-09 20:03:00+00:00</td>\n",
       "      <td>NaN</td>\n",
       "      <td>NaN</td>\n",
       "      <td>NaN</td>\n",
       "    </tr>\n",
       "    <tr>\n",
       "      <th>3</th>\n",
       "      <td>1656900119202254854</td>\n",
       "      <td>Event Horizon Balance Beam</td>\n",
       "      <td>2023-05-12 05:52:26+00:00</td>\n",
       "      <td>NaN</td>\n",
       "      <td>NaN</td>\n",
       "      <td>NaN</td>\n",
       "    </tr>\n",
       "    <tr>\n",
       "      <th>4</th>\n",
       "      <td>1616531874763116544</td>\n",
       "      <td>RT @BillyM2k: @elonmusk oh that’s actually pre...</td>\n",
       "      <td>2023-01-20 20:23:27+00:00</td>\n",
       "      <td>NaN</td>\n",
       "      <td>NaN</td>\n",
       "      <td>NaN</td>\n",
       "    </tr>\n",
       "  </tbody>\n",
       "</table>\n",
       "</div>"
      ],
      "text/plain": [
       "                    id                                           fullText  \\\n",
       "0  1655159652990976000  RT @einarvollset: I read @paulg’s  “How to Mak...   \n",
       "1  1657261624867299339                            https://t.co/Zjn6r15lrR   \n",
       "2  1623774484795920384  RT @BillyM2k: dude bookmarks are an awesome tw...   \n",
       "3  1656900119202254854                         Event Horizon Balance Beam   \n",
       "4  1616531874763116544  RT @BillyM2k: @elonmusk oh that’s actually pre...   \n",
       "\n",
       "                   createdAt  likeCount  viewCount isQuote  \n",
       "0  2023-05-07 10:36:27+00:00        NaN        NaN     NaN  \n",
       "1  2023-05-13 05:48:56+00:00        NaN        NaN     NaN  \n",
       "2  2023-02-09 20:03:00+00:00        NaN        NaN     NaN  \n",
       "3  2023-05-12 05:52:26+00:00        NaN        NaN     NaN  \n",
       "4  2023-01-20 20:23:27+00:00        NaN        NaN     NaN  "
      ]
     },
     "execution_count": 151,
     "metadata": {},
     "output_type": "execute_result"
    }
   ],
   "source": [
    "musk_tweets = pd.read_csv('all_musk_posts.csv', low_memory=False)\n",
    "musk_tweets[['id','fullText','createdAt','likeCount','viewCount','isQuote']].head()"
   ]
  },
  {
   "cell_type": "code",
   "execution_count": 82,
   "id": "f88e579f-5ee3-4a8c-970c-8f9abae77238",
   "metadata": {},
   "outputs": [],
   "source": [
    "def shorten_to_day(date):\n",
    "    return datetime.strptime(date[0:10],'%Y-%m-%d')\n",
    "\n",
    "def shorten_to_year(date):\n",
    "    return date[0:4]\n",
    "\n",
    "musk_tweets['day'] = musk_tweets['createdAt'].apply(shorten_to_day)\n",
    "musk_tweets['year'] = musk_tweets['createdAt'].apply(shorten_to_year)\n",
    "\n",
    "musk_tweets_day_grouped = musk_tweets.groupby(['year'])['id'].count().reset_index()"
   ]
  },
  {
   "cell_type": "code",
   "execution_count": 98,
   "id": "34dd73ae-a07b-4db4-8725-b65207891d69",
   "metadata": {},
   "outputs": [
    {
     "data": {
      "image/png": "[encoded data removed]",
      "text/plain": [
       "<Figure size 640x480 with 1 Axes>"
      ]
     },
     "metadata": {},
     "output_type": "display_data"
    }
   ],
   "source": [
    "#bar_plot = plt.bar(musk_tweets_day_grouped['year'], height=musk_tweets_day_grouped['orig_tweet_id'])\n",
    "plt.plot(musk_tweets_day_grouped['year'], musk_tweets_day_grouped['id'])\n",
    "#xline('2022')\n",
    "#plt.xlim('2022')\n",
    "plt.axvline(x='2022', color='r', linestyle='dashed', label='Twitter Purchased')\n",
    "plt.xticks(rotation=90)\n",
    "plt.title('Musk Tweet Numbers by Year')\n",
    "plt.legend()\n",
    "plt.show()"
   ]
  },
  {
   "cell_type": "code",
   "execution_count": 147,
   "id": "51d373cc-d71b-42b3-86f3-a0657765d3ef",
   "metadata": {},
   "outputs": [
    {
     "data": {
      "text/plain": [
       "0        [one, day, words, science, choose, science, mu...\n",
       "1                 [atatürk, anıtkabir, httpstcoal3wt0njr6]\n",
       "2        [uncover007, 500, ft, far, 2, miles, long, thr...\n",
       "3        [picture, boring, company, la, tunnel, taken, ...\n",
       "4        [whiskey, fire, smores, jc, also, hotdog, hotd...\n",
       "                               ...                        \n",
       "47170                                  [tunguz, haha, wow]\n",
       "47171                                          [alx, cool]\n",
       "47172                       [alx, activist, posing, judge]\n",
       "47173                               [billym2k, absolutely]\n",
       "47174              [donaldjtrumpjr, tulsigabbard, exactly]\n",
       "Name: tokens, Length: 47175, dtype: object"
      ]
     },
     "execution_count": 147,
     "metadata": {},
     "output_type": "execute_result"
    }
   ],
   "source": [
    "stop_words = list(nltk.corpus.stopwords.words('english'))\n",
    "stop_words.append('rt')\n",
    "\n",
    "def tweet_to_tokens(tweet):\n",
    "    tweet = tweet.lower()\n",
    "    # if '@' and ':' in tweet: # is a reply\n",
    "    #     tweet = tweet[tweet.find(':'):] # remove usernames\n",
    "    tweet = re.sub(r'[^\\w\\s]','',tweet)\n",
    "    tokens = nltk.word_tokenize(tweet)\n",
    "    return [x for x in tokens if x not in stop_words]\n",
    "\n",
    "musk_orginals = musk_tweets[musk_tweets['isQuote'] == False].copy().reset_index(drop=True)\n",
    "musk_orginals['tokens'] = musk_orginals['fullText'].apply(tweet_to_tokens)\n",
    "musk_orginals['tokens']"
   ]
  },
  {
   "cell_type": "code",
   "execution_count": 161,
   "id": "738d3f70-48f3-42c5-9c27-afa281ea3a7f",
   "metadata": {},
   "outputs": [
    {
     "data": {
      "text/plain": [
       "<Response [200]>"
      ]
     },
     "execution_count": 161,
     "metadata": {},
     "output_type": "execute_result"
    }
   ],
   "source": [
    "api_key = \"02d47a40800f4d8dbdcf6dc1a09a6a25\"\n",
    "input_claim = musk_orginals['fullText'][0]\n",
    "\n",
    "api_endpoint = f\"https://idir.uta.edu/claimbuster/api/v2/score/text/{input_claim}\"\n",
    "request_headers = {\"x-api-key\": api_key}\n",
    "\n",
    "api_response = requests.get(url=api_endpoint, headers=request_headers)"
   ]
  },
  {
   "cell_type": "code",
   "execution_count": 165,
   "id": "34f6a187-36bc-42f2-ba1c-30a2ad28a0d6",
   "metadata": {},
   "outputs": [
    {
     "name": "stdout",
     "output_type": "stream",
     "text": [
      "version   2 \n",
      "\n",
      "claim   \"If one day, my words are against science, choose science.\"\n",
      "Mustafa Kemal Atatürk \n",
      "\n",
      "results   [{'text': '\"If one day, my words are against science, choose science.\"\\r\\nMustafa Kemal Atatürk', 'index': 0, 'score': 0.2450297549}] \n",
      "\n"
     ]
    }
   ],
   "source": [
    "response_dict = json.loads(api_response.text)\n",
    "\n",
    "for i in response_dict:\n",
    "    print(i, \" \", response_dict[i], '\\n')"
   ]
  }
 ],
 "metadata": {
  "kernelspec": {
   "display_name": "Python [conda env:base] *",
   "language": "python",
   "name": "conda-base-py"
  },
  "language_info": {
   "codemirror_mode": {
    "name": "ipython",
    "version": 3
   },
   "file_extension": ".py",
   "mimetype": "text/x-python",
   "name": "python",
   "nbconvert_exporter": "python",
   "pygments_lexer": "ipython3",
   "version": "3.12.7"
  }
 },
 "nbformat": 4,
 "nbformat_minor": 5
}
